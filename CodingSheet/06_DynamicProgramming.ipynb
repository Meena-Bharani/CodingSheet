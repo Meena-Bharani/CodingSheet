{
 "cells": [
  {
   "cell_type": "markdown",
   "id": "8ed6ac25",
   "metadata": {},
   "source": [
    "# Dynamic programming"
   ]
  },
  {
   "cell_type": "code",
   "execution_count": null,
   "id": "649cdc61",
   "metadata": {},
   "outputs": [],
   "source": [
    "#  fibonacci with memorization\n",
    "# O(n)\n",
    "\n",
    "def fib(n,cache={}):\n",
    "    if n<2:\n",
    "        return n\n",
    "    \n",
    "    if n in cache:\n",
    "        return cache[n]\n",
    "    \n",
    "    cache[n] = fib(n-1,cache) + fib(n-2,cache)\n",
    "    return cache[n]\n",
    "\n",
    "fib(8)"
   ]
  },
  {
   "cell_type": "code",
   "execution_count": 18,
   "id": "ac5bf270",
   "metadata": {},
   "outputs": [
    {
     "data": {
      "text/plain": [
       "-7"
      ]
     },
     "execution_count": 18,
     "metadata": {},
     "output_type": "execute_result"
    }
   ],
   "source": [
    "# find minimum sum of subsequent array\n",
    "# [20, -7, -3,   9,   -4,   6,   -9, 10]\n",
    "#  20  -7 -10   -1    -5    1    -9  1\n",
    "#  20  -7 -7-3  -10+9 -1-4 -5+6  -9  -9+10\n",
    "#  either take that element alone or previous min sum  \n",
    "\n",
    "def min_subarray_sum_dp(array):\n",
    "    if len(array) ==0:\n",
    "        return 0\n",
    "    min_sum_using_element = [array[0]] # previous element\n",
    "    min_sum = array[0]\n",
    "    \n",
    "    for i in range(1,len(array)):\n",
    "        num = array[i]\n",
    "        current_min = min(num, num + min_sum_using_element[i-1])\n",
    "        min_sum_using_element.append(current_min)\n",
    "        min_sum = min(min_sum, current_min)\n",
    "    return min_sum\n",
    "\n",
    "min_subarray_sum_dp( [20, -7, -3,   9,   -4,   6,   -9, 10])\n",
    "min_subarray_sum_dp([-7,3,4,-2,-3,1,-3])\n"
   ]
  },
  {
   "cell_type": "markdown",
   "id": "146d8855",
   "metadata": {},
   "source": [
    "# 2D grid with memorization"
   ]
  },
  {
   "cell_type": "raw",
   "id": "2f5ddf91",
   "metadata": {},
   "source": [
    "'''\n",
    "a traveler on a 2D grid. begin in the top-left corner and the goal is to travel to the bottom-right. The rule is, move down or right. No of ways to reach the destination\n",
    "'''\n",
    "start _  _  _\n",
    "      _  _  _\n",
    "      _  _  _ end"
   ]
  },
  {
   "cell_type": "code",
   "execution_count": 21,
   "id": "83419eaf",
   "metadata": {},
   "outputs": [
    {
     "data": {
      "text/plain": [
       "6"
      ]
     },
     "execution_count": 21,
     "metadata": {},
     "output_type": "execute_result"
    }
   ],
   "source": [
    "def traveler(m , n , cache={}):\n",
    "    key = str(m) +','+str(n)\n",
    "    if m == 1 and n == 1:\n",
    "        return 1\n",
    "    if m == 0 or n == 0:\n",
    "        return 0\n",
    "    cache[key] = traveler(m-1, n, cache) + traveler(m, n-1, cache)\n",
    "    return cache[key]\n",
    "\n",
    "traveler(3,3)"
   ]
  },
  {
   "cell_type": "raw",
   "id": "51e6e203",
   "metadata": {},
   "source": [
    "'''\n",
    "write a function 'canSum(targetSum, numbers)' that takes in a targetSum and an array of numbers as argumerts. \n",
    "the function should return a boolean indicating wether or not it is possible to generate the targetSum using numbers from the array.\n",
    "you may assume an element of the array as many times as needed.\n",
    "you may assume that all input numbers are nonnegative.\n",
    "'''"
   ]
  },
  {
   "cell_type": "code",
   "execution_count": null,
   "id": "e548c3ac",
   "metadata": {},
   "outputs": [],
   "source": [
    "def canSum(targetSum, array,cache={}):\n",
    "    if targetSum in array:\n",
    "        return True\n",
    "    \n",
    "    if targetSum==0:\n",
    "        return True\n",
    "    \n",
    "    if targetSum <0:\n",
    "        return False \n",
    "    \n",
    "    for num in array:\n",
    "        reminder = targetSum - num\n",
    "        if canSum(reminder,array,cache):\n",
    "            cache[targetSum] = True\n",
    "            return True\n",
    "        \n",
    "    return False\n",
    "# canSum(7, [5,3,4,7])\n",
    "# canSum(7, [2,3])\n",
    "# canSum(7, [2,4])\n",
    "canSum(300, [2,3])"
   ]
  },
  {
   "cell_type": "raw",
   "id": "3386d44f",
   "metadata": {},
   "source": [
    "'''\n",
    "write a function 'howSum(targetSum, numbers)' that takes in a targetSum and an array of numbers as argumerts. \n",
    "\n",
    "the function should return an array containing any combination of elements that add up to exactly the targetSum. If there is not combination that adds up to targetSum, then return null.\n",
    "\n",
    "If there are multiple combinations possible, you may retrun any single one.\n",
    "'''"
   ]
  },
  {
   "cell_type": "code",
   "execution_count": 94,
   "id": "3c26407e",
   "metadata": {},
   "outputs": [
    {
     "name": "stdout",
     "output_type": "stream",
     "text": [
      "[2, 2, 2, 2]\n"
     ]
    }
   ],
   "source": [
    "def howSum(targetSum, numbers,cache=None):\n",
    "    if cache is None:\n",
    "        cache = {}\n",
    "    if targetSum in cache:\n",
    "        return cache[targetSum]\n",
    "    \n",
    "    if targetSum ==0:\n",
    "        return []\n",
    "    \n",
    "    if targetSum < 0:\n",
    "        return None\n",
    "    \n",
    "    for num in numbers:\n",
    "        reminder = targetSum - num\n",
    "#         print('targetSum:',targetSum,' num:',num,' reminder: ',reminder,' cache:',cache)\n",
    "        result = howSum(reminder, numbers, cache)\n",
    "#         print('result: ',result)\n",
    "        if result is not None:\n",
    "            result.append(num)\n",
    "            cache[targetSum] = result\n",
    "            return cache[targetSum]\n",
    "            \n",
    "    cache[targetSum] = None\n",
    "    return None\n",
    "\n",
    "# print(howSum(7, [2, 3])) # [3,2,2]\n",
    "# print(howSum(7, [5, 3, 4, 7])) # [4,3]\n",
    "# print(howSum(7, [2, 4])) # None\n",
    "print(howSum(8, [2, 3, 5])) # [2,2,2,2]\n",
    "# print(howSum(300, [7,14])) # None"
   ]
  },
  {
   "cell_type": "raw",
   "id": "594cdd30",
   "metadata": {},
   "source": [
    "A subsequence is a sequence of letters in a string, in order, but with any number of characters removed.  Vowels in order are the letters in the string aeiou.  Given a string, determine the length of the longest subsequence that contains all of the vowels, in order, and no vowels out of order.  \n",
    "Examples\n",
    "s = 'aeeiiouu'  \n",
    "All 5 vowels are present in the correct order, so the length of the entire string, 8, is returned.\n",
    "s = 'aeeiiaouu'\n",
    "Again, all 5 vowels are present in the correct order, though they don't make the entire string. The 'a' at position 5 must be removed since it is out of order, leaving 'aeeiiouu' with length 8."
   ]
  },
  {
   "cell_type": "code",
   "execution_count": 106,
   "id": "a74f67fb",
   "metadata": {},
   "outputs": [
    {
     "name": "stdout",
     "output_type": "stream",
     "text": [
      "3\n",
      "2\n"
     ]
    }
   ],
   "source": [
    "def longest_ordered_vowel_subsequence(s):\n",
    "    vowels = 'aeiou'\n",
    "    dp = [''] * 5  # Initialize lists for each vowel\n",
    "    for char in s:\n",
    "        if char in vowels:\n",
    "            index = vowels.index(char)\n",
    "            dp[index] = max(dp[index] + char, dp[index], key=len)\n",
    "    return max(dp, key=len)\n",
    "\n",
    "# Example usage\n",
    "s1 = 'aeeiiiouu'\n",
    "s2 = 'aeeiiaouu'\n",
    "print(len(longest_ordered_vowel_subsequence(s1)))  # Output: 8\n",
    "print(len(longest_ordered_vowel_subsequence(s2)))  # Output: 8"
   ]
  },
  {
   "cell_type": "raw",
   "id": "439fd96e",
   "metadata": {},
   "source": [
    "Given a long integer, find the number of ways to represent it as a sum of two or more consecutive positive integers.\n",
    " \n",
    "Example\n",
    "num = 21\n",
    " \n",
    "There are three ways to represent num = 21 as the sum of two or more consecutive integers:\n",
    " \n",
    "1+2+3+4+5+6 = 21\n",
    "6+7+8=21\n",
    "10+11=21"
   ]
  },
  {
   "cell_type": "code",
   "execution_count": 113,
   "id": "a3765559",
   "metadata": {},
   "outputs": [
    {
     "name": "stdout",
     "output_type": "stream",
     "text": [
      "10.0\n",
      "6.0\n",
      "1.0\n",
      "0.0\n",
      "4\n"
     ]
    }
   ],
   "source": [
    "def count_consecutive_ways(num,cache={}):\n",
    "    end = (num+1) / 2\n",
    "    for c in end:\n",
    "        result = num - c\n",
    "        temp = count_consecutive_ways(result,cache)\n",
    "        if temp < num:\n",
    "            count = count + 1\n",
    "            cache.append()\n",
    "    return count\n",
    "\n",
    "# Example usage\n",
    "num = 21\n",
    "print(count_consecutive_ways(num))  # Output: 3"
   ]
  },
  {
   "cell_type": "code",
   "execution_count": null,
   "id": "9f328a45",
   "metadata": {},
   "outputs": [],
   "source": []
  }
 ],
 "metadata": {
  "kernelspec": {
   "display_name": "Python 3 (ipykernel)",
   "language": "python",
   "name": "python3"
  },
  "language_info": {
   "codemirror_mode": {
    "name": "ipython",
    "version": 3
   },
   "file_extension": ".py",
   "mimetype": "text/x-python",
   "name": "python",
   "nbconvert_exporter": "python",
   "pygments_lexer": "ipython3",
   "version": "3.11.5"
  }
 },
 "nbformat": 4,
 "nbformat_minor": 5
}
